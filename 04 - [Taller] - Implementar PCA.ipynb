{
 "cells": [
  {
   "cell_type": "markdown",
   "metadata": {},
   "source": [
    "# Implementacón de PCA\n",
    "\n",
    "Imaginemos por un momento que la librería [scikit-learn](https://scikit-learn.org/stable/) no tiene implementado el algoritmo Principal Component Analysis (PCA). Si quisiéramos aplicar el algoritmo, tendríamos que implementarlo nosotros mismos. Al mismo tiempo, imaginemos que otros algoritmos que quisiéramos usar si están implementados en la libería, por lo cual sería bastante conveniente que nuestra implementación de PCA tuviera una interfaz muy similar a la que tienen otras implementaciones en scikit-learn.\n",
    "\n",
    "A continuación encontrarás una definición de la clase PCA, reemplaza el `raise NotImplementedError` por una implementadicón correcta. Mas adelante, deberás usar esta implementación para representar en 2 dimensiones dataset iris."
   ]
  },
  {
   "cell_type": "code",
   "execution_count": null,
   "metadata": {},
   "outputs": [],
   "source": [
    "import numpy as np\n",
    "import matplotlib.pyplot as plt\n",
    "from sklearn.base import BaseEstimator, TransformerMixin\n",
    "from sklearn.datasets import load_iris\n",
    "\n",
    "%matplotlib inline\n",
    "np.random.seed(1234)"
   ]
  },
  {
   "cell_type": "code",
   "execution_count": null,
   "metadata": {},
   "outputs": [],
   "source": [
    "class PCA(TransformerMixin, BaseEstimator):\n",
    "    \"\"\"Principal component analysis (PCA).\n",
    "    Linear dimensionality reduction using Singular Value Decomposition of the\n",
    "    data to project it to a lower dimensional space. The input data is centered\n",
    "    but not scaled for each feature before applying the SVD.\n",
    "    \n",
    "    Parameters\n",
    "    ----------\n",
    "    n_components : int\n",
    "        Number of components to keep.\n",
    "\n",
    "    \"\"\"\n",
    "    \n",
    "    def __init__(self, n_components):\n",
    "        self.n_components=n_components\n",
    "        \n",
    "    def fit(self, X, y=None):\n",
    "        \"\"\"Fit the model with X.\n",
    "        \n",
    "        Parameters\n",
    "        ----------\n",
    "        X : array-like of shape (n_samples, n_features)\n",
    "            Training data, where n_samples is the number of samples\n",
    "            and n_features is the number of features.\n",
    "        y : Ignored\n",
    "\n",
    "        Returns\n",
    "        -------\n",
    "        self : object\n",
    "            Returns the instance itself.\n",
    "        \"\"\"\n",
    "        raise NotImplementedError\n",
    "\n",
    "        \n",
    "    def transform(self, X):\n",
    "        \"\"\"Apply dimensionality reduction to X.\n",
    "        X is projected on the first principal components previously extracted\n",
    "        from a training set.\n",
    "        \n",
    "        Parameters\n",
    "        ----------\n",
    "        X : array-like, shape (n_samples, n_features)\n",
    "            New data, where n_samples is the number of samples\n",
    "            and n_features is the number of features.\n",
    "            \n",
    "        Returns\n",
    "        -------\n",
    "        X_new : array-like, shape (n_samples, n_components)\n",
    "        \n",
    "        \"\"\"\n",
    "        raise NotImplementedError"
   ]
  },
  {
   "cell_type": "code",
   "execution_count": null,
   "metadata": {},
   "outputs": [],
   "source": [
    "help(load_iris)"
   ]
  },
  {
   "cell_type": "code",
   "execution_count": null,
   "metadata": {},
   "outputs": [],
   "source": [
    "iris = load_iris()"
   ]
  },
  {
   "cell_type": "code",
   "execution_count": null,
   "metadata": {},
   "outputs": [],
   "source": [
    "pca = PCA(n_components=2)\n",
    "Z = pca.fit_transform(iris.data)\n",
    "plt.scatter(Z[:, 0], Z[:, 1], c=iris.target)\n",
    "plt.gca().set_aspect('equal', adjustable='box')\n",
    "plt.show()"
   ]
  }
 ],
 "metadata": {
  "kernelspec": {
   "display_name": "Python 3",
   "language": "python",
   "name": "python3"
  },
  "language_info": {
   "codemirror_mode": {
    "name": "ipython",
    "version": 3
   },
   "file_extension": ".py",
   "mimetype": "text/x-python",
   "name": "python",
   "nbconvert_exporter": "python",
   "pygments_lexer": "ipython3",
   "version": "3.7.4"
  }
 },
 "nbformat": 4,
 "nbformat_minor": 2
}